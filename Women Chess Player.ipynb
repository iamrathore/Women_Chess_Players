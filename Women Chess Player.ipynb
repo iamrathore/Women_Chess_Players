{
 "cells": [
  {
   "cell_type": "code",
   "execution_count": 1,
   "id": "3a6322d1",
   "metadata": {},
   "outputs": [],
   "source": [
    "import numpy as np # linear algebra\n",
    "import pandas as pd # data processing, CSV file I/O (e.g. pd.read_csv)\n",
    "import matplotlib.pyplot as plt\n",
    "plt.style.use('seaborn-whitegrid')\n",
    "import seaborn as sns\n",
    "\n",
    "from collections import Counter\n",
    "import warnings \n",
    "warnings.filterwarnings('ignore')\n"
   ]
  },
  {
   "cell_type": "code",
   "execution_count": 3,
   "id": "3eadbccb",
   "metadata": {},
   "outputs": [
    {
     "data": {
      "text/plain": [
       "'C:\\\\Users\\\\ankit'"
      ]
     },
     "execution_count": 3,
     "metadata": {},
     "output_type": "execute_result"
    }
   ],
   "source": [
    "os.getcwd()"
   ]
  },
  {
   "cell_type": "code",
   "execution_count": 4,
   "id": "56e0d81d",
   "metadata": {},
   "outputs": [],
   "source": [
    "os.chdir(\"D:\\Datasets\")"
   ]
  },
  {
   "cell_type": "code",
   "execution_count": 5,
   "id": "fa7103a8",
   "metadata": {},
   "outputs": [
    {
     "data": {
      "text/plain": [
       "'D:\\\\Datasets'"
      ]
     },
     "execution_count": 5,
     "metadata": {},
     "output_type": "execute_result"
    }
   ],
   "source": [
    "os.getcwd()"
   ]
  },
  {
   "cell_type": "code",
   "execution_count": 6,
   "id": "ac3f3865",
   "metadata": {},
   "outputs": [],
   "source": [
    "df= pd.read_csv(\"D:\\\\Datasets\\\\chess.csv\")"
   ]
  },
  {
   "cell_type": "code",
   "execution_count": 7,
   "id": "79b834a2",
   "metadata": {
    "scrolled": true
   },
   "outputs": [
    {
     "data": {
      "text/html": [
       "<div>\n",
       "<style scoped>\n",
       "    .dataframe tbody tr th:only-of-type {\n",
       "        vertical-align: middle;\n",
       "    }\n",
       "\n",
       "    .dataframe tbody tr th {\n",
       "        vertical-align: top;\n",
       "    }\n",
       "\n",
       "    .dataframe thead th {\n",
       "        text-align: right;\n",
       "    }\n",
       "</style>\n",
       "<table border=\"1\" class=\"dataframe\">\n",
       "  <thead>\n",
       "    <tr style=\"text-align: right;\">\n",
       "      <th></th>\n",
       "      <th>Fide id</th>\n",
       "      <th>Name</th>\n",
       "      <th>Federation</th>\n",
       "      <th>Gender</th>\n",
       "      <th>Year_of_birth</th>\n",
       "      <th>Title</th>\n",
       "      <th>Standard_Rating</th>\n",
       "      <th>Rapid_rating</th>\n",
       "      <th>Blitz_rating</th>\n",
       "      <th>Inactive_flag</th>\n",
       "    </tr>\n",
       "  </thead>\n",
       "  <tbody>\n",
       "    <tr>\n",
       "      <th>0</th>\n",
       "      <td>700070</td>\n",
       "      <td>Polgar, Judit</td>\n",
       "      <td>HUN</td>\n",
       "      <td>F</td>\n",
       "      <td>1976.0</td>\n",
       "      <td>GM</td>\n",
       "      <td>2675</td>\n",
       "      <td>2646.0</td>\n",
       "      <td>2736.0</td>\n",
       "      <td>wi</td>\n",
       "    </tr>\n",
       "    <tr>\n",
       "      <th>1</th>\n",
       "      <td>8602980</td>\n",
       "      <td>Hou, Yifan</td>\n",
       "      <td>CHN</td>\n",
       "      <td>F</td>\n",
       "      <td>1994.0</td>\n",
       "      <td>GM</td>\n",
       "      <td>2658</td>\n",
       "      <td>2621.0</td>\n",
       "      <td>2601.0</td>\n",
       "      <td>NaN</td>\n",
       "    </tr>\n",
       "    <tr>\n",
       "      <th>2</th>\n",
       "      <td>5008123</td>\n",
       "      <td>Koneru, Humpy</td>\n",
       "      <td>IND</td>\n",
       "      <td>F</td>\n",
       "      <td>1987.0</td>\n",
       "      <td>GM</td>\n",
       "      <td>2586</td>\n",
       "      <td>2483.0</td>\n",
       "      <td>2483.0</td>\n",
       "      <td>NaN</td>\n",
       "    </tr>\n",
       "    <tr>\n",
       "      <th>3</th>\n",
       "      <td>4147103</td>\n",
       "      <td>Goryachkina, Aleksandra</td>\n",
       "      <td>RUS</td>\n",
       "      <td>F</td>\n",
       "      <td>1998.0</td>\n",
       "      <td>GM</td>\n",
       "      <td>2582</td>\n",
       "      <td>2502.0</td>\n",
       "      <td>2441.0</td>\n",
       "      <td>NaN</td>\n",
       "    </tr>\n",
       "    <tr>\n",
       "      <th>4</th>\n",
       "      <td>700088</td>\n",
       "      <td>Polgar, Susan</td>\n",
       "      <td>HUN</td>\n",
       "      <td>F</td>\n",
       "      <td>1969.0</td>\n",
       "      <td>GM</td>\n",
       "      <td>2577</td>\n",
       "      <td>NaN</td>\n",
       "      <td>NaN</td>\n",
       "      <td>wi</td>\n",
       "    </tr>\n",
       "    <tr>\n",
       "      <th>...</th>\n",
       "      <td>...</td>\n",
       "      <td>...</td>\n",
       "      <td>...</td>\n",
       "      <td>...</td>\n",
       "      <td>...</td>\n",
       "      <td>...</td>\n",
       "      <td>...</td>\n",
       "      <td>...</td>\n",
       "      <td>...</td>\n",
       "      <td>...</td>\n",
       "    </tr>\n",
       "    <tr>\n",
       "      <th>8548</th>\n",
       "      <td>3302288</td>\n",
       "      <td>Reinkens, Natalia</td>\n",
       "      <td>BOL</td>\n",
       "      <td>F</td>\n",
       "      <td>NaN</td>\n",
       "      <td>NaN</td>\n",
       "      <td>1801</td>\n",
       "      <td>NaN</td>\n",
       "      <td>NaN</td>\n",
       "      <td>wi</td>\n",
       "    </tr>\n",
       "    <tr>\n",
       "      <th>8549</th>\n",
       "      <td>343960</td>\n",
       "      <td>Saffova, Michaela</td>\n",
       "      <td>CZE</td>\n",
       "      <td>F</td>\n",
       "      <td>1994.0</td>\n",
       "      <td>NaN</td>\n",
       "      <td>1801</td>\n",
       "      <td>1791.0</td>\n",
       "      <td>1765.0</td>\n",
       "      <td>NaN</td>\n",
       "    </tr>\n",
       "    <tr>\n",
       "      <th>8550</th>\n",
       "      <td>5038294</td>\n",
       "      <td>Shetye, Siddhali</td>\n",
       "      <td>IND</td>\n",
       "      <td>F</td>\n",
       "      <td>1992.0</td>\n",
       "      <td>NaN</td>\n",
       "      <td>1801</td>\n",
       "      <td>1884.0</td>\n",
       "      <td>1824.0</td>\n",
       "      <td>wi</td>\n",
       "    </tr>\n",
       "    <tr>\n",
       "      <th>8551</th>\n",
       "      <td>2072491</td>\n",
       "      <td>Trakru, Priya</td>\n",
       "      <td>USA</td>\n",
       "      <td>F</td>\n",
       "      <td>2001.0</td>\n",
       "      <td>WFM</td>\n",
       "      <td>1801</td>\n",
       "      <td>NaN</td>\n",
       "      <td>NaN</td>\n",
       "      <td>wi</td>\n",
       "    </tr>\n",
       "    <tr>\n",
       "      <th>8552</th>\n",
       "      <td>4666399</td>\n",
       "      <td>Vorpahl, Sina Fleur</td>\n",
       "      <td>GER</td>\n",
       "      <td>F</td>\n",
       "      <td>1982.0</td>\n",
       "      <td>NaN</td>\n",
       "      <td>1801</td>\n",
       "      <td>NaN</td>\n",
       "      <td>NaN</td>\n",
       "      <td>wi</td>\n",
       "    </tr>\n",
       "  </tbody>\n",
       "</table>\n",
       "<p>8553 rows × 10 columns</p>\n",
       "</div>"
      ],
      "text/plain": [
       "      Fide id                     Name Federation Gender  Year_of_birth Title  \\\n",
       "0      700070            Polgar, Judit        HUN      F         1976.0    GM   \n",
       "1     8602980               Hou, Yifan        CHN      F         1994.0    GM   \n",
       "2     5008123            Koneru, Humpy        IND      F         1987.0    GM   \n",
       "3     4147103  Goryachkina, Aleksandra        RUS      F         1998.0    GM   \n",
       "4      700088            Polgar, Susan        HUN      F         1969.0    GM   \n",
       "...       ...                      ...        ...    ...            ...   ...   \n",
       "8548  3302288        Reinkens, Natalia        BOL      F            NaN   NaN   \n",
       "8549   343960        Saffova, Michaela        CZE      F         1994.0   NaN   \n",
       "8550  5038294         Shetye, Siddhali        IND      F         1992.0   NaN   \n",
       "8551  2072491            Trakru, Priya        USA      F         2001.0   WFM   \n",
       "8552  4666399      Vorpahl, Sina Fleur        GER      F         1982.0   NaN   \n",
       "\n",
       "      Standard_Rating  Rapid_rating  Blitz_rating Inactive_flag  \n",
       "0                2675        2646.0        2736.0            wi  \n",
       "1                2658        2621.0        2601.0           NaN  \n",
       "2                2586        2483.0        2483.0           NaN  \n",
       "3                2582        2502.0        2441.0           NaN  \n",
       "4                2577           NaN           NaN            wi  \n",
       "...               ...           ...           ...           ...  \n",
       "8548             1801           NaN           NaN            wi  \n",
       "8549             1801        1791.0        1765.0           NaN  \n",
       "8550             1801        1884.0        1824.0            wi  \n",
       "8551             1801           NaN           NaN            wi  \n",
       "8552             1801           NaN           NaN            wi  \n",
       "\n",
       "[8553 rows x 10 columns]"
      ]
     },
     "execution_count": 7,
     "metadata": {},
     "output_type": "execute_result"
    }
   ],
   "source": [
    "df"
   ]
  },
  {
   "cell_type": "code",
   "execution_count": 8,
   "id": "de9a4b3f",
   "metadata": {},
   "outputs": [],
   "source": [
    "df['Inactive_flag'].fillna('active',inplace=True)"
   ]
  },
  {
   "cell_type": "code",
   "execution_count": 9,
   "id": "8976ea79",
   "metadata": {},
   "outputs": [],
   "source": [
    "data=df[df['Inactive_flag']=='active']"
   ]
  },
  {
   "cell_type": "code",
   "execution_count": 10,
   "id": "09190643",
   "metadata": {},
   "outputs": [
    {
     "data": {
      "text/plain": [
       "Index(['Fide id', 'Name', 'Federation', 'Gender', 'Year_of_birth', 'Title',\n",
       "       'Standard_Rating', 'Rapid_rating', 'Blitz_rating', 'Inactive_flag'],\n",
       "      dtype='object')"
      ]
     },
     "execution_count": 10,
     "metadata": {},
     "output_type": "execute_result"
    }
   ],
   "source": [
    "data.columns"
   ]
  },
  {
   "cell_type": "markdown",
   "id": "23d196d1",
   "metadata": {},
   "source": [
    "***Type of Columns-\n",
    "Categorical:(Title,Inactive_flag,Gender,Federation)\n",
    "Numerical Variable:(Fide id,Year_of_birth,Standard_Rating,Rapid_rating,Blitz_rating )***"
   ]
  },
  {
   "cell_type": "code",
   "execution_count": 11,
   "id": "7c1d1402",
   "metadata": {},
   "outputs": [
    {
     "data": {
      "text/html": [
       "<div>\n",
       "<style scoped>\n",
       "    .dataframe tbody tr th:only-of-type {\n",
       "        vertical-align: middle;\n",
       "    }\n",
       "\n",
       "    .dataframe tbody tr th {\n",
       "        vertical-align: top;\n",
       "    }\n",
       "\n",
       "    .dataframe thead th {\n",
       "        text-align: right;\n",
       "    }\n",
       "</style>\n",
       "<table border=\"1\" class=\"dataframe\">\n",
       "  <thead>\n",
       "    <tr style=\"text-align: right;\">\n",
       "      <th></th>\n",
       "      <th>Fide id</th>\n",
       "      <th>Year_of_birth</th>\n",
       "      <th>Standard_Rating</th>\n",
       "      <th>Rapid_rating</th>\n",
       "      <th>Blitz_rating</th>\n",
       "    </tr>\n",
       "  </thead>\n",
       "  <tbody>\n",
       "    <tr>\n",
       "      <th>count</th>\n",
       "      <td>2.701000e+03</td>\n",
       "      <td>2690.000000</td>\n",
       "      <td>2701.000000</td>\n",
       "      <td>2091.000000</td>\n",
       "      <td>2046.000000</td>\n",
       "    </tr>\n",
       "    <tr>\n",
       "      <th>mean</th>\n",
       "      <td>1.008719e+07</td>\n",
       "      <td>1990.520818</td>\n",
       "      <td>2015.577194</td>\n",
       "      <td>1927.388331</td>\n",
       "      <td>1924.102639</td>\n",
       "    </tr>\n",
       "    <tr>\n",
       "      <th>std</th>\n",
       "      <td>1.079450e+07</td>\n",
       "      <td>13.664651</td>\n",
       "      <td>160.718363</td>\n",
       "      <td>213.518058</td>\n",
       "      <td>207.279272</td>\n",
       "    </tr>\n",
       "    <tr>\n",
       "      <th>min</th>\n",
       "      <td>1.005360e+05</td>\n",
       "      <td>1936.000000</td>\n",
       "      <td>1801.000000</td>\n",
       "      <td>1224.000000</td>\n",
       "      <td>1159.000000</td>\n",
       "    </tr>\n",
       "    <tr>\n",
       "      <th>25%</th>\n",
       "      <td>1.607340e+06</td>\n",
       "      <td>1984.000000</td>\n",
       "      <td>1882.000000</td>\n",
       "      <td>1784.000000</td>\n",
       "      <td>1787.250000</td>\n",
       "    </tr>\n",
       "    <tr>\n",
       "      <th>50%</th>\n",
       "      <td>4.902785e+06</td>\n",
       "      <td>1995.000000</td>\n",
       "      <td>1984.000000</td>\n",
       "      <td>1920.000000</td>\n",
       "      <td>1918.500000</td>\n",
       "    </tr>\n",
       "    <tr>\n",
       "      <th>75%</th>\n",
       "      <td>1.413705e+07</td>\n",
       "      <td>2001.000000</td>\n",
       "      <td>2108.000000</td>\n",
       "      <td>2068.000000</td>\n",
       "      <td>2060.000000</td>\n",
       "    </tr>\n",
       "    <tr>\n",
       "      <th>max</th>\n",
       "      <td>7.300697e+07</td>\n",
       "      <td>2010.000000</td>\n",
       "      <td>2658.000000</td>\n",
       "      <td>2621.000000</td>\n",
       "      <td>2608.000000</td>\n",
       "    </tr>\n",
       "  </tbody>\n",
       "</table>\n",
       "</div>"
      ],
      "text/plain": [
       "            Fide id  Year_of_birth  Standard_Rating  Rapid_rating  \\\n",
       "count  2.701000e+03    2690.000000      2701.000000   2091.000000   \n",
       "mean   1.008719e+07    1990.520818      2015.577194   1927.388331   \n",
       "std    1.079450e+07      13.664651       160.718363    213.518058   \n",
       "min    1.005360e+05    1936.000000      1801.000000   1224.000000   \n",
       "25%    1.607340e+06    1984.000000      1882.000000   1784.000000   \n",
       "50%    4.902785e+06    1995.000000      1984.000000   1920.000000   \n",
       "75%    1.413705e+07    2001.000000      2108.000000   2068.000000   \n",
       "max    7.300697e+07    2010.000000      2658.000000   2621.000000   \n",
       "\n",
       "       Blitz_rating  \n",
       "count   2046.000000  \n",
       "mean    1924.102639  \n",
       "std      207.279272  \n",
       "min     1159.000000  \n",
       "25%     1787.250000  \n",
       "50%     1918.500000  \n",
       "75%     2060.000000  \n",
       "max     2608.000000  "
      ]
     },
     "execution_count": 11,
     "metadata": {},
     "output_type": "execute_result"
    }
   ],
   "source": [
    "data.describe()"
   ]
  },
  {
   "cell_type": "code",
   "execution_count": 12,
   "id": "41e55d25",
   "metadata": {},
   "outputs": [
    {
     "name": "stdout",
     "output_type": "stream",
     "text": [
      "<class 'pandas.core.frame.DataFrame'>\n",
      "Int64Index: 2701 entries, 1 to 8549\n",
      "Data columns (total 10 columns):\n",
      " #   Column           Non-Null Count  Dtype  \n",
      "---  ------           --------------  -----  \n",
      " 0   Fide id          2701 non-null   int64  \n",
      " 1   Name             2701 non-null   object \n",
      " 2   Federation       2701 non-null   object \n",
      " 3   Gender           2701 non-null   object \n",
      " 4   Year_of_birth    2690 non-null   float64\n",
      " 5   Title            1424 non-null   object \n",
      " 6   Standard_Rating  2701 non-null   int64  \n",
      " 7   Rapid_rating     2091 non-null   float64\n",
      " 8   Blitz_rating     2046 non-null   float64\n",
      " 9   Inactive_flag    2701 non-null   object \n",
      "dtypes: float64(3), int64(2), object(5)\n",
      "memory usage: 232.1+ KB\n"
     ]
    }
   ],
   "source": [
    "data.info()"
   ]
  },
  {
   "cell_type": "code",
   "execution_count": 14,
   "id": "7905512c",
   "metadata": {
    "scrolled": true
   },
   "outputs": [
    {
     "data": {
      "text/html": [
       "<div>\n",
       "<style scoped>\n",
       "    .dataframe tbody tr th:only-of-type {\n",
       "        vertical-align: middle;\n",
       "    }\n",
       "\n",
       "    .dataframe tbody tr th {\n",
       "        vertical-align: top;\n",
       "    }\n",
       "\n",
       "    .dataframe thead th {\n",
       "        text-align: right;\n",
       "    }\n",
       "</style>\n",
       "<table border=\"1\" class=\"dataframe\">\n",
       "  <thead>\n",
       "    <tr style=\"text-align: right;\">\n",
       "      <th></th>\n",
       "      <th>Fide id</th>\n",
       "      <th>Name</th>\n",
       "      <th>Federation</th>\n",
       "      <th>Gender</th>\n",
       "      <th>Year_of_birth</th>\n",
       "      <th>Title</th>\n",
       "      <th>Standard_Rating</th>\n",
       "      <th>Rapid_rating</th>\n",
       "      <th>Blitz_rating</th>\n",
       "      <th>Inactive_flag</th>\n",
       "    </tr>\n",
       "  </thead>\n",
       "  <tbody>\n",
       "    <tr>\n",
       "      <th>1</th>\n",
       "      <td>8602980</td>\n",
       "      <td>Hou, Yifan</td>\n",
       "      <td>CHN</td>\n",
       "      <td>F</td>\n",
       "      <td>1994.0</td>\n",
       "      <td>GM</td>\n",
       "      <td>2658</td>\n",
       "      <td>2621.0</td>\n",
       "      <td>2601.0</td>\n",
       "      <td>active</td>\n",
       "    </tr>\n",
       "    <tr>\n",
       "      <th>2</th>\n",
       "      <td>5008123</td>\n",
       "      <td>Koneru, Humpy</td>\n",
       "      <td>IND</td>\n",
       "      <td>F</td>\n",
       "      <td>1987.0</td>\n",
       "      <td>GM</td>\n",
       "      <td>2586</td>\n",
       "      <td>2483.0</td>\n",
       "      <td>2483.0</td>\n",
       "      <td>active</td>\n",
       "    </tr>\n",
       "    <tr>\n",
       "      <th>3</th>\n",
       "      <td>4147103</td>\n",
       "      <td>Goryachkina, Aleksandra</td>\n",
       "      <td>RUS</td>\n",
       "      <td>F</td>\n",
       "      <td>1998.0</td>\n",
       "      <td>GM</td>\n",
       "      <td>2582</td>\n",
       "      <td>2502.0</td>\n",
       "      <td>2441.0</td>\n",
       "      <td>active</td>\n",
       "    </tr>\n",
       "    <tr>\n",
       "      <th>6</th>\n",
       "      <td>8603006</td>\n",
       "      <td>Ju, Wenjun</td>\n",
       "      <td>CHN</td>\n",
       "      <td>F</td>\n",
       "      <td>1991.0</td>\n",
       "      <td>GM</td>\n",
       "      <td>2560</td>\n",
       "      <td>2610.0</td>\n",
       "      <td>2536.0</td>\n",
       "      <td>active</td>\n",
       "    </tr>\n",
       "    <tr>\n",
       "      <th>7</th>\n",
       "      <td>14109336</td>\n",
       "      <td>Lagno, Kateryna</td>\n",
       "      <td>RUS</td>\n",
       "      <td>F</td>\n",
       "      <td>1989.0</td>\n",
       "      <td>GM</td>\n",
       "      <td>2546</td>\n",
       "      <td>2521.0</td>\n",
       "      <td>2608.0</td>\n",
       "      <td>active</td>\n",
       "    </tr>\n",
       "  </tbody>\n",
       "</table>\n",
       "</div>"
      ],
      "text/plain": [
       "    Fide id                     Name Federation Gender  Year_of_birth Title  \\\n",
       "1   8602980               Hou, Yifan        CHN      F         1994.0    GM   \n",
       "2   5008123            Koneru, Humpy        IND      F         1987.0    GM   \n",
       "3   4147103  Goryachkina, Aleksandra        RUS      F         1998.0    GM   \n",
       "6   8603006               Ju, Wenjun        CHN      F         1991.0    GM   \n",
       "7  14109336          Lagno, Kateryna        RUS      F         1989.0    GM   \n",
       "\n",
       "   Standard_Rating  Rapid_rating  Blitz_rating Inactive_flag  \n",
       "1             2658        2621.0        2601.0        active  \n",
       "2             2586        2483.0        2483.0        active  \n",
       "3             2582        2502.0        2441.0        active  \n",
       "6             2560        2610.0        2536.0        active  \n",
       "7             2546        2521.0        2608.0        active  "
      ]
     },
     "execution_count": 14,
     "metadata": {},
     "output_type": "execute_result"
    }
   ],
   "source": [
    "data.head()"
   ]
  },
  {
   "cell_type": "code",
   "execution_count": 15,
   "id": "002b3fb2",
   "metadata": {},
   "outputs": [],
   "source": [
    "## Categorical Variable \n",
    "def bar_plot(variable):\n",
    "    # get feature\n",
    "    var=data[variable]\n",
    "    # count number of categorical variable\n",
    "    var_value=var.value_counts()\n",
    "    # visualization\n",
    "    plt.figure(figsize=(15,3))\n",
    "    plt.bar(var_value.index,var_value)\n",
    "    plt.xticks(var_value.index,var_value.index.values)\n",
    "    plt.ylabel('Frequency')\n",
    "    plt.title(variable)\n",
    "    plt.show('{}:\\n {}:'.format(variable,var_value))"
   ]
  },
  {
   "cell_type": "code",
   "execution_count": 16,
   "id": "a4a769bb",
   "metadata": {},
   "outputs": [
    {
     "data": {
      "image/png": "[encoded data removed]",
      "text/plain": [
       "<Figure size 1080x216 with 1 Axes>"
      ]
     },
     "metadata": {},
     "output_type": "display_data"
    }
   ],
   "source": [
    "category1=['Title']\n",
    "for c in category1 :\n",
    "    bar_plot(c)"
   ]
  },
  {
   "cell_type": "code",
   "execution_count": 17,
   "id": "83196306",
   "metadata": {},
   "outputs": [
    {
     "name": "stdout",
     "output_type": "stream",
     "text": [
      "WFM    593\n",
      "WIM    373\n",
      "WGM    185\n",
      "WCM    127\n",
      "IM      85\n",
      "GM      28\n",
      "FM      27\n",
      "CM       6\n",
      "Name: Title, dtype: int64 \n",
      " \n",
      "RUS    319\n",
      "GER    248\n",
      "POL    125\n",
      "ESP    117\n",
      "IND    110\n",
      "      ... \n",
      "KOR      1\n",
      "TTO      1\n",
      "HON      1\n",
      "ZAM      1\n",
      "BER      1\n",
      "Name: Federation, Length: 112, dtype: int64 \n",
      " \n"
     ]
    }
   ],
   "source": [
    "category2=['Title','Federation']\n",
    "for i in category2:\n",
    "    print('{} \\n '.format(data[i].value_counts()))"
   ]
  },
  {
   "cell_type": "markdown",
   "id": "248929ef",
   "metadata": {},
   "source": [
    "**Numerical Data**"
   ]
  },
  {
   "cell_type": "code",
   "execution_count": 18,
   "id": "0c6d118c",
   "metadata": {},
   "outputs": [],
   "source": [
    "def plot_hist(variable):\n",
    "    plt.figure(figsize=(9,3))\n",
    "    plt.hist(data[variable],bins=50)\n",
    "    plt.xlabel(variable)\n",
    "    plt.ylabel('Frequency')\n",
    "    plt.title('{} distribution with hist'.format(variable))\n",
    "    plt.show()"
   ]
  },
  {
   "cell_type": "code",
   "execution_count": 19,
   "id": "472c9bd0",
   "metadata": {},
   "outputs": [
    {
     "data": {
      "image/png": "[encoded data removed]",
      "text/plain": [
       "<Figure size 648x216 with 1 Axes>"
      ]
     },
     "metadata": {},
     "output_type": "display_data"
    },
    {
     "data": {
      "image/png": "[encoded data removed]",
      "text/plain": [
       "<Figure size 648x216 with 1 Axes>"
      ]
     },
     "metadata": {},
     "output_type": "display_data"
    },
    {
     "data": {
      "image/png": "[encoded data removed]",
      "text/plain": [
       "<Figure size 648x216 with 1 Axes>"
      ]
     },
     "metadata": {},
     "output_type": "display_data"
    },
    {
     "data": {
      "image/png": "[encoded data removed]",
      "text/plain": [
       "<Figure size 648x216 with 1 Axes>"
      ]
     },
     "metadata": {},
     "output_type": "display_data"
    }
   ],
   "source": [
    "num_variable=['Year_of_birth','Standard_Rating','Rapid_rating','Blitz_rating']\n",
    "for i in num_variable:\n",
    "    plot_hist(i)"
   ]
  },
  {
   "cell_type": "code",
   "execution_count": 20,
   "id": "1954caf5",
   "metadata": {},
   "outputs": [
    {
     "data": {
      "text/html": [
       "<div>\n",
       "<style scoped>\n",
       "    .dataframe tbody tr th:only-of-type {\n",
       "        vertical-align: middle;\n",
       "    }\n",
       "\n",
       "    .dataframe tbody tr th {\n",
       "        vertical-align: top;\n",
       "    }\n",
       "\n",
       "    .dataframe thead th {\n",
       "        text-align: right;\n",
       "    }\n",
       "</style>\n",
       "<table border=\"1\" class=\"dataframe\">\n",
       "  <thead>\n",
       "    <tr style=\"text-align: right;\">\n",
       "      <th></th>\n",
       "      <th>Fide id</th>\n",
       "      <th>Name</th>\n",
       "      <th>Federation</th>\n",
       "      <th>Gender</th>\n",
       "      <th>Year_of_birth</th>\n",
       "      <th>Title</th>\n",
       "      <th>Standard_Rating</th>\n",
       "      <th>Rapid_rating</th>\n",
       "      <th>Blitz_rating</th>\n",
       "      <th>Inactive_flag</th>\n",
       "    </tr>\n",
       "  </thead>\n",
       "  <tbody>\n",
       "    <tr>\n",
       "      <th>35</th>\n",
       "      <td>8608059</td>\n",
       "      <td>Zhu, Jiner</td>\n",
       "      <td>CHN</td>\n",
       "      <td>F</td>\n",
       "      <td>2002.0</td>\n",
       "      <td>WGM</td>\n",
       "      <td>2459</td>\n",
       "      <td>2326.0</td>\n",
       "      <td>2249.0</td>\n",
       "      <td>active</td>\n",
       "    </tr>\n",
       "    <tr>\n",
       "      <th>38</th>\n",
       "      <td>24171760</td>\n",
       "      <td>Shuvalova, Polina</td>\n",
       "      <td>RUS</td>\n",
       "      <td>F</td>\n",
       "      <td>2001.0</td>\n",
       "      <td>WGM</td>\n",
       "      <td>2454</td>\n",
       "      <td>2379.0</td>\n",
       "      <td>2319.0</td>\n",
       "      <td>active</td>\n",
       "    </tr>\n",
       "    <tr>\n",
       "      <th>76</th>\n",
       "      <td>13308130</td>\n",
       "      <td>Sargsyan, Anna M.</td>\n",
       "      <td>ARM</td>\n",
       "      <td>F</td>\n",
       "      <td>2001.0</td>\n",
       "      <td>WGM</td>\n",
       "      <td>2402</td>\n",
       "      <td>2304.0</td>\n",
       "      <td>2263.0</td>\n",
       "      <td>active</td>\n",
       "    </tr>\n",
       "    <tr>\n",
       "      <th>104</th>\n",
       "      <td>13708694</td>\n",
       "      <td>Assaubayeva, Bibisara</td>\n",
       "      <td>KAZ</td>\n",
       "      <td>F</td>\n",
       "      <td>2004.0</td>\n",
       "      <td>FM</td>\n",
       "      <td>2378</td>\n",
       "      <td>2321.0</td>\n",
       "      <td>2232.0</td>\n",
       "      <td>active</td>\n",
       "    </tr>\n",
       "    <tr>\n",
       "      <th>342</th>\n",
       "      <td>24174041</td>\n",
       "      <td>Maltsevskaya, Aleksandra</td>\n",
       "      <td>RUS</td>\n",
       "      <td>F</td>\n",
       "      <td>2002.0</td>\n",
       "      <td>WGM</td>\n",
       "      <td>2272</td>\n",
       "      <td>2356.0</td>\n",
       "      <td>2295.0</td>\n",
       "      <td>active</td>\n",
       "    </tr>\n",
       "  </tbody>\n",
       "</table>\n",
       "</div>"
      ],
      "text/plain": [
       "      Fide id                      Name Federation Gender  Year_of_birth  \\\n",
       "35    8608059                Zhu, Jiner        CHN      F         2002.0   \n",
       "38   24171760         Shuvalova, Polina        RUS      F         2001.0   \n",
       "76   13308130         Sargsyan, Anna M.        ARM      F         2001.0   \n",
       "104  13708694     Assaubayeva, Bibisara        KAZ      F         2004.0   \n",
       "342  24174041  Maltsevskaya, Aleksandra        RUS      F         2002.0   \n",
       "\n",
       "    Title  Standard_Rating  Rapid_rating  Blitz_rating Inactive_flag  \n",
       "35    WGM             2459        2326.0        2249.0        active  \n",
       "38    WGM             2454        2379.0        2319.0        active  \n",
       "76    WGM             2402        2304.0        2263.0        active  \n",
       "104    FM             2378        2321.0        2232.0        active  \n",
       "342   WGM             2272        2356.0        2295.0        active  "
      ]
     },
     "execution_count": 20,
     "metadata": {},
     "output_type": "execute_result"
    }
   ],
   "source": [
    "# free data analysis \n",
    "data[(data['Year_of_birth']>2000)&(data['Rapid_rating']>2300)]"
   ]
  },
  {
   "cell_type": "code",
   "execution_count": 21,
   "id": "ef95b4f0",
   "metadata": {},
   "outputs": [
    {
     "data": {
      "text/html": [
       "<div>\n",
       "<style scoped>\n",
       "    .dataframe tbody tr th:only-of-type {\n",
       "        vertical-align: middle;\n",
       "    }\n",
       "\n",
       "    .dataframe tbody tr th {\n",
       "        vertical-align: top;\n",
       "    }\n",
       "\n",
       "    .dataframe thead th {\n",
       "        text-align: right;\n",
       "    }\n",
       "</style>\n",
       "<table border=\"1\" class=\"dataframe\">\n",
       "  <thead>\n",
       "    <tr style=\"text-align: right;\">\n",
       "      <th></th>\n",
       "      <th>Fide id</th>\n",
       "      <th>Name</th>\n",
       "      <th>Federation</th>\n",
       "      <th>Gender</th>\n",
       "      <th>Year_of_birth</th>\n",
       "      <th>Title</th>\n",
       "      <th>Standard_Rating</th>\n",
       "      <th>Rapid_rating</th>\n",
       "      <th>Blitz_rating</th>\n",
       "      <th>Inactive_flag</th>\n",
       "    </tr>\n",
       "  </thead>\n",
       "  <tbody>\n",
       "    <tr>\n",
       "      <th>33</th>\n",
       "      <td>1700030</td>\n",
       "      <td>Cramling, Pia</td>\n",
       "      <td>SWE</td>\n",
       "      <td>F</td>\n",
       "      <td>1963.0</td>\n",
       "      <td>GM</td>\n",
       "      <td>2464</td>\n",
       "      <td>2396.0</td>\n",
       "      <td>2320.0</td>\n",
       "      <td>active</td>\n",
       "    </tr>\n",
       "    <tr>\n",
       "      <th>102</th>\n",
       "      <td>4119827</td>\n",
       "      <td>Matveeva, Svetlana</td>\n",
       "      <td>RUS</td>\n",
       "      <td>F</td>\n",
       "      <td>1969.0</td>\n",
       "      <td>IM</td>\n",
       "      <td>2380</td>\n",
       "      <td>2338.0</td>\n",
       "      <td>2231.0</td>\n",
       "      <td>active</td>\n",
       "    </tr>\n",
       "    <tr>\n",
       "      <th>183</th>\n",
       "      <td>4000510</td>\n",
       "      <td>Berend, Elvira</td>\n",
       "      <td>LUX</td>\n",
       "      <td>F</td>\n",
       "      <td>1965.0</td>\n",
       "      <td>WGM</td>\n",
       "      <td>2326</td>\n",
       "      <td>2326.0</td>\n",
       "      <td>2340.0</td>\n",
       "      <td>active</td>\n",
       "    </tr>\n",
       "    <tr>\n",
       "      <th>203</th>\n",
       "      <td>4671660</td>\n",
       "      <td>Schleining, Zoya</td>\n",
       "      <td>GER</td>\n",
       "      <td>F</td>\n",
       "      <td>1961.0</td>\n",
       "      <td>IM</td>\n",
       "      <td>2320</td>\n",
       "      <td>2340.0</td>\n",
       "      <td>NaN</td>\n",
       "      <td>active</td>\n",
       "    </tr>\n",
       "    <tr>\n",
       "      <th>333</th>\n",
       "      <td>2802015</td>\n",
       "      <td>Klinova, Masha</td>\n",
       "      <td>ISR</td>\n",
       "      <td>F</td>\n",
       "      <td>1968.0</td>\n",
       "      <td>IM</td>\n",
       "      <td>2275</td>\n",
       "      <td>2301.0</td>\n",
       "      <td>2274.0</td>\n",
       "      <td>active</td>\n",
       "    </tr>\n",
       "  </tbody>\n",
       "</table>\n",
       "</div>"
      ],
      "text/plain": [
       "     Fide id                Name Federation Gender  Year_of_birth Title  \\\n",
       "33   1700030       Cramling, Pia        SWE      F         1963.0    GM   \n",
       "102  4119827  Matveeva, Svetlana        RUS      F         1969.0    IM   \n",
       "183  4000510      Berend, Elvira        LUX      F         1965.0   WGM   \n",
       "203  4671660    Schleining, Zoya        GER      F         1961.0    IM   \n",
       "333  2802015      Klinova, Masha        ISR      F         1968.0    IM   \n",
       "\n",
       "     Standard_Rating  Rapid_rating  Blitz_rating Inactive_flag  \n",
       "33              2464        2396.0        2320.0        active  \n",
       "102             2380        2338.0        2231.0        active  \n",
       "183             2326        2326.0        2340.0        active  \n",
       "203             2320        2340.0           NaN        active  \n",
       "333             2275        2301.0        2274.0        active  "
      ]
     },
     "execution_count": 21,
     "metadata": {},
     "output_type": "execute_result"
    }
   ],
   "source": [
    "data[(data['Year_of_birth']<1970)&(data['Rapid_rating']>2300)]"
   ]
  },
  {
   "cell_type": "code",
   "execution_count": 22,
   "id": "c63dc7e4",
   "metadata": {},
   "outputs": [
    {
     "data": {
      "text/plain": [
       "7    Lagno, Kateryna\n",
       "Name: Name, dtype: object"
      ]
     },
     "execution_count": 22,
     "metadata": {},
     "output_type": "execute_result"
    }
   ],
   "source": [
    "data.Name[data['Blitz_rating']==data['Blitz_rating'].max()]"
   ]
  },
  {
   "cell_type": "code",
   "execution_count": 23,
   "id": "8bb59ffa",
   "metadata": {},
   "outputs": [
    {
     "data": {
      "text/plain": [
       "1    Hou, Yifan\n",
       "Name: Name, dtype: object"
      ]
     },
     "execution_count": 23,
     "metadata": {},
     "output_type": "execute_result"
    }
   ],
   "source": [
    "data.Name[data['Standard_Rating']==data['Standard_Rating'].max()]"
   ]
  },
  {
   "cell_type": "code",
   "execution_count": 24,
   "id": "9b4b1b6c",
   "metadata": {},
   "outputs": [
    {
     "data": {
      "text/plain": [
       "1    Hou, Yifan\n",
       "Name: Name, dtype: object"
      ]
     },
     "execution_count": 24,
     "metadata": {},
     "output_type": "execute_result"
    }
   ],
   "source": [
    "data['Name'][data['Rapid_rating']==data['Rapid_rating'].max()]"
   ]
  },
  {
   "cell_type": "code",
   "execution_count": 25,
   "id": "412e4ff3",
   "metadata": {},
   "outputs": [
    {
     "data": {
      "text/html": [
       "<div>\n",
       "<style scoped>\n",
       "    .dataframe tbody tr th:only-of-type {\n",
       "        vertical-align: middle;\n",
       "    }\n",
       "\n",
       "    .dataframe tbody tr th {\n",
       "        vertical-align: top;\n",
       "    }\n",
       "\n",
       "    .dataframe thead th {\n",
       "        text-align: right;\n",
       "    }\n",
       "</style>\n",
       "<table border=\"1\" class=\"dataframe\">\n",
       "  <thead>\n",
       "    <tr style=\"text-align: right;\">\n",
       "      <th></th>\n",
       "      <th>Fide id</th>\n",
       "      <th>Name</th>\n",
       "      <th>Federation</th>\n",
       "      <th>Gender</th>\n",
       "      <th>Year_of_birth</th>\n",
       "      <th>Title</th>\n",
       "      <th>Standard_Rating</th>\n",
       "      <th>Rapid_rating</th>\n",
       "      <th>Blitz_rating</th>\n",
       "      <th>Inactive_flag</th>\n",
       "    </tr>\n",
       "  </thead>\n",
       "  <tbody>\n",
       "    <tr>\n",
       "      <th>481</th>\n",
       "      <td>8618020</td>\n",
       "      <td>Lu, Miaoyi</td>\n",
       "      <td>CHN</td>\n",
       "      <td>F</td>\n",
       "      <td>2010.0</td>\n",
       "      <td>NaN</td>\n",
       "      <td>2244</td>\n",
       "      <td>1403.0</td>\n",
       "      <td>1545.0</td>\n",
       "      <td>active</td>\n",
       "    </tr>\n",
       "    <tr>\n",
       "      <th>5439</th>\n",
       "      <td>30929849</td>\n",
       "      <td>Li, Rachael</td>\n",
       "      <td>USA</td>\n",
       "      <td>F</td>\n",
       "      <td>2010.0</td>\n",
       "      <td>WCM</td>\n",
       "      <td>1939</td>\n",
       "      <td>NaN</td>\n",
       "      <td>NaN</td>\n",
       "      <td>active</td>\n",
       "    </tr>\n",
       "  </tbody>\n",
       "</table>\n",
       "</div>"
      ],
      "text/plain": [
       "       Fide id         Name Federation Gender  Year_of_birth Title  \\\n",
       "481    8618020   Lu, Miaoyi        CHN      F         2010.0   NaN   \n",
       "5439  30929849  Li, Rachael        USA      F         2010.0   WCM   \n",
       "\n",
       "      Standard_Rating  Rapid_rating  Blitz_rating Inactive_flag  \n",
       "481              2244        1403.0        1545.0        active  \n",
       "5439             1939           NaN           NaN        active  "
      ]
     },
     "execution_count": 25,
     "metadata": {},
     "output_type": "execute_result"
    }
   ],
   "source": [
    "data[data['Year_of_birth']==data['Year_of_birth'].max()]"
   ]
  },
  {
   "cell_type": "code",
   "execution_count": 26,
   "id": "25e8fab5",
   "metadata": {},
   "outputs": [
    {
     "data": {
      "text/plain": [
       "Title\n",
       "CM     2002.500000\n",
       "FM     2204.185185\n",
       "GM     2469.821429\n",
       "IM     2362.764706\n",
       "WCM    1915.267717\n",
       "WFM    2030.733558\n",
       "WGM    2248.794595\n",
       "WIM    2120.632708\n",
       "Name: Standard_Rating, dtype: float64"
      ]
     },
     "execution_count": 26,
     "metadata": {},
     "output_type": "execute_result"
    }
   ],
   "source": [
    "# groupby\n",
    "data.groupby('Title').Standard_Rating.mean()"
   ]
  },
  {
   "cell_type": "markdown",
   "id": "8272727f",
   "metadata": {},
   "source": [
    "**CM= Candidate Master\n",
    "FM= Fide Master\n",
    "GM= Grand Master\n",
    "IM= International Master\n",
    "W prefix is for women***"
   ]
  },
  {
   "cell_type": "code",
   "execution_count": 27,
   "id": "566f4fd9",
   "metadata": {},
   "outputs": [
    {
     "data": {
      "text/plain": [
       "Title\n",
       "CM     1827.200000\n",
       "FM     2018.370370\n",
       "GM     2396.321429\n",
       "IM     2262.782051\n",
       "WCM    1750.112150\n",
       "WFM    1917.734694\n",
       "WGM    2184.904192\n",
       "WIM    2031.977636\n",
       "Name: Blitz_rating, dtype: float64"
      ]
     },
     "execution_count": 27,
     "metadata": {},
     "output_type": "execute_result"
    }
   ],
   "source": [
    "data.groupby('Title').Blitz_rating.mean()"
   ]
  },
  {
   "cell_type": "code",
   "execution_count": 28,
   "id": "712c6c50",
   "metadata": {},
   "outputs": [
    {
     "data": {
      "text/plain": [
       "Title\n",
       "CM     1821.600000\n",
       "FM     2024.846154\n",
       "GM     2436.037037\n",
       "IM     2302.417722\n",
       "WCM    1763.544554\n",
       "WFM    1928.703782\n",
       "WGM    2205.515152\n",
       "WIM    2049.698361\n",
       "Name: Rapid_rating, dtype: float64"
      ]
     },
     "execution_count": 28,
     "metadata": {},
     "output_type": "execute_result"
    }
   ],
   "source": [
    "data.groupby('Title').Rapid_rating.mean()"
   ]
  },
  {
   "cell_type": "code",
   "execution_count": 29,
   "id": "67ac9c79",
   "metadata": {},
   "outputs": [
    {
     "data": {
      "text/plain": [
       "1    Hou, Yifan\n",
       "Name: Name, dtype: object"
      ]
     },
     "execution_count": 29,
     "metadata": {},
     "output_type": "execute_result"
    }
   ],
   "source": [
    "# defining column using other columns\n",
    "data['total_rating']=(data['Standard_Rating']+data['Rapid_rating']+data['Blitz_rating'])/3\n",
    "data.head()\n",
    "data.Name[data['total_rating']==data['total_rating'].max()]"
   ]
  },
  {
   "cell_type": "code",
   "execution_count": null,
   "id": "7f9a47ee",
   "metadata": {},
   "outputs": [],
   "source": []
  }
 ],
 "metadata": {
  "kernelspec": {
   "display_name": "Python 3",
   "language": "python",
   "name": "python3"
  },
  "language_info": {
   "codemirror_mode": {
    "name": "ipython",
    "version": 3
   },
   "file_extension": ".py",
   "mimetype": "text/x-python",
   "name": "python",
   "nbconvert_exporter": "python",
   "pygments_lexer": "ipython3",
   "version": "3.8.8"
  }
 },
 "nbformat": 4,
 "nbformat_minor": 5
}
